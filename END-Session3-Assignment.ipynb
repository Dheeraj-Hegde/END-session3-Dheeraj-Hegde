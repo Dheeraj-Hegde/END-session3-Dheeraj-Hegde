{
 "cells": [
  {
   "cell_type": "code",
   "execution_count": 1,
   "metadata": {},
   "outputs": [],
   "source": [
    "import math\n",
    "import random\n",
    "from functools import reduce, partial"
   ]
  },
  {
   "cell_type": "code",
   "execution_count": 2,
   "metadata": {},
   "outputs": [],
   "source": [
    "def a1_is_fibonacci(number: int) -> bool:\n",
    "    \"\"\"\n",
    "    Task: Write a function using only list filter lambda that can tell whether a number is a Fibonacci number or not.\n",
    "    You can use a pre-calculated list/dict to store fib numbers till 10000\n",
    "    :param number: An integer value to test if an input is fibonacci\n",
    "    :return: Bool value, indicating the result of the test\n",
    "    \"\"\"\n",
    "\n",
    "    # Generating a pre-calculated fibonacci sequence with upto 10000 numbers\n",
    "    fib = [1, 1]\n",
    "    for _ in range(10000):\n",
    "        fib.append(fib[-1] + fib[-2])\n",
    "\n",
    "    # Check if the number belongs to the fib list\n",
    "    result = any(filter(lambda x: number == x, fib))\n",
    "\n",
    "    return result"
   ]
  },
  {
   "cell_type": "code",
   "execution_count": 3,
   "metadata": {},
   "outputs": [],
   "source": [
    "def a2_add_iterables(a: list, b: list) -> int:\n",
    "    \"\"\"\n",
    "    Task 2.1: add 2 iterables a and b such that a is even and b is odd\n",
    "    :param a: list of integers\n",
    "    :param b: list of integers\n",
    "    :return: an integer, indicating the sum\n",
    "    \"\"\"\n",
    "    result = reduce(lambda x, y: x + y, [x[0] + x[1] for x in zip(a, b) if x[0] % 2 == 0 and x[1] % 2 == 1], 0)\n",
    "    return result"
   ]
  },
  {
   "cell_type": "code",
   "execution_count": 4,
   "metadata": {},
   "outputs": [],
   "source": [
    "def a3_strip_vowels(input_string: str):\n",
    "    \"\"\"\n",
    "    Task 2.2: strips every vowel from a string provided (tsai>>t s)\n",
    "    :param input_string: any input string\n",
    "    :return: string without vowels\n",
    "    \"\"\"\n",
    "    result = ''.join([x for x in input_string if x not in {'a', 'e', 'i', 'o', 'u', 'A', 'E', 'I', 'O', 'U'}])\n",
    "    return result"
   ]
  },
  {
   "cell_type": "code",
   "execution_count": 5,
   "metadata": {},
   "outputs": [],
   "source": [
    "def a4_relu(array: list) -> list:\n",
    "    \"\"\"\n",
    "    Task 2.3: acts like a ReLU function for a 1D array\n",
    "    :param array: list of integers\n",
    "    :return: list of integers after transforming with ReLU\n",
    "    \"\"\"\n",
    "\n",
    "    result = list(map(lambda x: x if x >= 0 else 0, array))\n",
    "    return result"
   ]
  },
  {
   "cell_type": "code",
   "execution_count": 6,
   "metadata": {},
   "outputs": [],
   "source": [
    "def a5_sigmoid(array: list) -> list:\n",
    "    \"\"\"\n",
    "    Task 2.4: acts like a Sigmoid function for a 1D array\n",
    "    :param array: list of integers\n",
    "    :return: list of integers after transforming with Sigmoid\n",
    "    \"\"\"\n",
    "\n",
    "    result = list(map(lambda x: math.exp(x) / (math.exp(x) + 1), array))\n",
    "    return result"
   ]
  },
  {
   "cell_type": "code",
   "execution_count": 7,
   "metadata": {},
   "outputs": [],
   "source": [
    "def a6_shift_characters_by_5(input_string: str) -> str:\n",
    "    \"\"\"\n",
    "    Task 2.5: takes a small character string and shifts all characters by 5 (handle boundary conditions) tsai>>yxfn\n",
    "    :param input_string: any string of lower case alphabets\n",
    "    :return: string rotated by 5 places\n",
    "    \"\"\"\n",
    "    result = ''.join([chr((ord(x) - ord('a') + 5) % 26 + ord('a')) for x in input_string])\n",
    "    return result"
   ]
  },
  {
   "cell_type": "code",
   "execution_count": 8,
   "metadata": {},
   "outputs": [],
   "source": [
    "def a7_check_swear_words(paragraph: str) -> bool:\n",
    "    \"\"\"\n",
    "    Task 3: A list comprehension expression that takes a ~200 word paragraph, and checks whether it has any of the\n",
    "    swear words mentioned in https://github.com/RobertJGabriel/Google-profanity-words/blob/master/list.txt\n",
    "    :param paragraph: a string with some words\n",
    "    :return: True if the paragraph contains any swear words\n",
    "    \"\"\"\n",
    "\n",
    "    import urllib.request\n",
    "    content = urllib.request.urlopen(\n",
    "        'https://raw.githubusercontent.com/RobertJGabriel/Google-profanity-words/master/list.txt')\n",
    "    swear_words = content.read().decode('utf-8').split('\\n')\n",
    "    paragraph_words = paragraph.split(' ')\n",
    "\n",
    "    # Check if words in paragraph_words belongs to the swear_words\n",
    "    result = any([any(filter(lambda x: word == x, swear_words)) for word in paragraph_words])\n",
    "    return result"
   ]
  },
  {
   "cell_type": "code",
   "execution_count": 14,
   "metadata": {},
   "outputs": [
    {
     "data": {
      "text/plain": [
       "True"
      ]
     },
     "execution_count": 14,
     "metadata": {},
     "output_type": "execute_result"
    }
   ],
   "source": [
    "a7_check_swear_words(\"This is a dummy paragraph to check for any swear words like balls or asses\")"
   ]
  },
  {
   "cell_type": "code",
   "execution_count": 16,
   "metadata": {},
   "outputs": [
    {
     "data": {
      "text/plain": [
       "False"
      ]
     },
     "execution_count": 16,
     "metadata": {},
     "output_type": "execute_result"
    }
   ],
   "source": [
    "a7_check_swear_words(\"This is a dummy paragraph to check condition which doesn't satisfy any swear words like bat\")"
   ]
  },
  {
   "cell_type": "code",
   "execution_count": 9,
   "metadata": {},
   "outputs": [],
   "source": [
    "def a8_add_evens(array: list) -> int:\n",
    "    \"\"\"\n",
    "    Task 4.1: Using reduce function add only even numbers in a list\n",
    "    :param array: list of integers\n",
    "    :return: integer (sum of evens)\n",
    "    \"\"\"\n",
    "    result = reduce(lambda x, y: x if y % 2 == 1 else x + y, array, 0)\n",
    "    return result"
   ]
  },
  {
   "cell_type": "code",
   "execution_count": 10,
   "metadata": {},
   "outputs": [],
   "source": [
    "def a9_find_biggest_printable_ascii_char(input_string: str) -> int:\n",
    "    \"\"\"\n",
    "    Task 4.2: Using reduce function find the biggest character in a string (printable ascii characters)\n",
    "    ord in the range 32-127\n",
    "    :param input_string: string\n",
    "    :return: integer - ord of the largest ascii character, return 0 if no printable ascii character\n",
    "    \"\"\"\n",
    "    result = reduce(lambda x, y: ord(y) if 32 <= ord(y) <= 127 and ord(y) > x else x, input_string, 0)\n",
    "    return result"
   ]
  },
  {
   "cell_type": "code",
   "execution_count": 11,
   "metadata": {},
   "outputs": [],
   "source": [
    "def a10_add_3rd_element(array: list) -> int:\n",
    "    \"\"\"\n",
    "    Task 4.3: Using reduce function adds every 3rd number in a list\n",
    "    :param array: list of integers\n",
    "    :return: integer (sum of every 3rd number in a list)\n",
    "    \"\"\"\n",
    "\n",
    "    result = reduce(lambda x, y: x if y[0] % 3 != 0 else (0, x[1] + y[1]), enumerate(array), (0, 0))[1]\n",
    "    return result"
   ]
  },
  {
   "cell_type": "code",
   "execution_count": 12,
   "metadata": {},
   "outputs": [],
   "source": [
    "def a11_generate_random_number_plates() -> list:\n",
    "    \"\"\"\n",
    "    Task 5: Using randint, random.choice and list comprehensions, write an expression that generates 15 random\n",
    "    KADDAADDDD number plates, where KA is fixed, D stands for a digit, and A stands for Capital alphabets.\n",
    "    10<<DD<<99 & 1000<<DDDD<<9999\n",
    "    :return: list of strings, where each string represents a number plate\n",
    "    \"\"\"\n",
    "    result = ['KA' + str(random.randint(10, 99)) + chr(random.randint(65, 90)) + chr(random.randint(65, 90)) +\n",
    "              str(random.randint(1000, 9999)) for _ in range(15)]\n",
    "    return result"
   ]
  },
  {
   "cell_type": "code",
   "execution_count": 13,
   "metadata": {},
   "outputs": [],
   "source": [
    "def a12_generate_random_number_plates(state: str, num_range: tuple) -> list:\n",
    "    \"\"\"\n",
    "    Task 6.1: Write the above again from scratch where KA can be changed to DL, and 1000/9999 ranges can be provided.\n",
    "    :param state: two capital letters\n",
    "    :param num_range: any integer x, such that 0 <= x <= 9999\n",
    "    :return: list of strings, where each string represents a number plate\n",
    "    \"\"\"\n",
    "\n",
    "    assert 1000 <= num_range[0] <= num_range[1] <= 9999\n",
    "\n",
    "    result = [state + str(random.randint(10, 99)) + chr(random.randint(65, 90)) + chr(random.randint(65, 90)) +\n",
    "              str(random.randint(num_range[0], num_range[1])) for _ in range(15)]\n",
    "    return result"
   ]
  },
  {
   "cell_type": "code",
   "execution_count": null,
   "metadata": {},
   "outputs": [],
   "source": []
  }
 ],
 "metadata": {
  "kernelspec": {
   "display_name": "Python 3",
   "language": "python",
   "name": "python3"
  },
  "language_info": {
   "codemirror_mode": {
    "name": "ipython",
    "version": 3
   },
   "file_extension": ".py",
   "mimetype": "text/x-python",
   "name": "python",
   "nbconvert_exporter": "python",
   "pygments_lexer": "ipython3",
   "version": "3.7.6"
  }
 },
 "nbformat": 4,
 "nbformat_minor": 4
}
